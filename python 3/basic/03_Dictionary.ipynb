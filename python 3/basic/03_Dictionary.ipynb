{
  "cells": [
    {
      "cell_type": "markdown",
      "metadata": {
        "id": "view-in-github",
        "colab_type": "text"
      },
      "source": [
        "<a href=\"https://colab.research.google.com/github/MeGaNeKoS/My-Check-Point/blob/main/python%203/basic/03_Dictionary.ipynb\" target=\"_parent\"><img src=\"https://colab.research.google.com/assets/colab-badge.svg\" alt=\"Open In Colab\"/></a>"
      ]
    },
    {
      "cell_type": "markdown",
      "metadata": {
        "id": "eSsO-QBqhZij"
      },
      "source": [
        "# Dictionaries\n",
        "A dictionary is a collection which is unordered, changeable and indexed.<br>\n",
        "A dictionary consists of a collection of key-value pairs.<br>\n",
        "Each key-value pair maps the key to its associated value.<br>\n",
        "A dictionary is written in braces.<br>\n",
        "Each key is separated from its value by a colon (:), and the items are separated by commas.\n",
        "\n",
        "`my_dict = {\"name\":\"Max\", \"age\":28, \"city\":\"New York\"}`"
      ]
    },
    {
      "cell_type": "markdown",
      "metadata": {
        "id": "OTjBNwGmhZit"
      },
      "source": [
        "#### Create a dictionary\n",
        "Create a dictionary with braces, or with the built-in dict funtion."
      ]
    },
    {
      "cell_type": "code",
      "execution_count": 1,
      "metadata": {
        "colab": {
          "base_uri": "https://localhost:8080/"
        },
        "id": "qXc47CXjhZiz",
        "outputId": "e35484f5-e293-401a-db6b-4874ffe7b75d"
      },
      "outputs": [
        {
          "output_type": "stream",
          "name": "stdout",
          "text": [
            "my_dict {'name': 'Max', 'age': 28, 'city': 'New York'}\n",
            "my_dict_2 {'name': 'Lisa', 'age': 27, 'city': 'Boston'}\n"
          ]
        }
      ],
      "source": [
        "my_dict = {\"name\": \"Max\", \"age\": 28, \"city\": \"New York\"}\n",
        "print(\"my_dict\", my_dict)\n",
        "\n",
        "# or use the dict constructor, note: no quotes necessary for keys\n",
        "my_dict_2 = dict(name=\"Lisa\", age=27, city=\"Boston\")\n",
        "print(\"my_dict_2\", my_dict_2)"
      ]
    },
    {
      "cell_type": "markdown",
      "metadata": {
        "id": "Kq3gsfBRhZi7"
      },
      "source": [
        "#### Access items"
      ]
    },
    {
      "cell_type": "code",
      "execution_count": 2,
      "metadata": {
        "colab": {
          "base_uri": "https://localhost:8080/"
        },
        "id": "p6Jy7xBfhZi-",
        "outputId": "4daa65c5-1a1c-4fae-9adb-103c98a817ce"
      },
      "outputs": [
        {
          "output_type": "stream",
          "name": "stdout",
          "text": [
            "Max\n"
          ]
        }
      ],
      "source": [
        "name_in_dict = my_dict[\"name\"]\n",
        "print(name_in_dict)"
      ]
    },
    {
      "cell_type": "code",
      "execution_count": 3,
      "outputs": [
        {
          "output_type": "error",
          "ename": "KeyError",
          "evalue": "ignored",
          "traceback": [
            "\u001b[0;31m---------------------------------------------------------------------------\u001b[0m",
            "\u001b[0;31mKeyError\u001b[0m                                  Traceback (most recent call last)",
            "\u001b[0;32m<ipython-input-3-1240abd83057>\u001b[0m in \u001b[0;36m<module>\u001b[0;34m()\u001b[0m\n\u001b[1;32m      1\u001b[0m \u001b[0;31m# KeyError if no key is found\u001b[0m\u001b[0;34m\u001b[0m\u001b[0;34m\u001b[0m\u001b[0;34m\u001b[0m\u001b[0m\n\u001b[0;32m----> 2\u001b[0;31m \u001b[0mprint\u001b[0m\u001b[0;34m(\u001b[0m\u001b[0mmy_dict\u001b[0m\u001b[0;34m[\u001b[0m\u001b[0;34m\"lastname\"\u001b[0m\u001b[0;34m]\u001b[0m\u001b[0;34m)\u001b[0m\u001b[0;34m\u001b[0m\u001b[0;34m\u001b[0m\u001b[0m\n\u001b[0m",
            "\u001b[0;31mKeyError\u001b[0m: 'lastname'"
          ]
        }
      ],
      "source": [
        "# KeyError if no key is found\n",
        "print(my_dict[\"lastname\"])"
      ],
      "metadata": {
        "pycharm": {
          "name": "#%%\n"
        },
        "colab": {
          "base_uri": "https://localhost:8080/",
          "height": 187
        },
        "id": "K1wIwWaBhZjE",
        "outputId": "5b58cd0e-8fe0-48df-80a0-8b94182b92e9"
      }
    },
    {
      "cell_type": "markdown",
      "metadata": {
        "id": "elzq_RD2hZjG"
      },
      "source": [
        "#### Add and change items\n",
        "Simply add or access a key and assign the value.\n",
        "0"
      ]
    },
    {
      "cell_type": "code",
      "execution_count": 4,
      "metadata": {
        "colab": {
          "base_uri": "https://localhost:8080/"
        },
        "id": "-JlBZ6KthZjH",
        "outputId": "ee0d3a44-5f9f-4205-c44c-027b8153c6bd"
      },
      "outputs": [
        {
          "output_type": "stream",
          "name": "stdout",
          "text": [
            "{'name': 'Max', 'age': 28, 'city': 'New York', 'email': 'max@xyz.com'}\n",
            "{'name': 'Max', 'age': 28, 'city': 'New York', 'email': 'coolmax@xyz.com'}\n"
          ]
        }
      ],
      "source": [
        "# add a new key\n",
        "my_dict[\"email\"] = \"max@xyz.com\"\n",
        "print(my_dict)\n",
        "\n",
        "# or overwrite the now existing key\n",
        "my_dict[\"email\"] = \"coolmax@xyz.com\"\n",
        "print(my_dict)"
      ]
    },
    {
      "cell_type": "markdown",
      "metadata": {
        "id": "mhiqdtcOhZjJ"
      },
      "source": [
        "#### Delete items"
      ]
    },
    {
      "cell_type": "code",
      "execution_count": 5,
      "metadata": {
        "colab": {
          "base_uri": "https://localhost:8080/"
        },
        "id": "NIz6yaafhZjM",
        "outputId": "1036e0ca-674e-485e-db68-d8cdc13442ec"
      },
      "outputs": [
        {
          "output_type": "stream",
          "name": "stdout",
          "text": [
            "popped value: 28\n",
            "popped item: ('city', 'New York')\n",
            "{'name': 'Max'}\n",
            "Clear(): {}\n"
          ]
        }
      ],
      "source": [
        "# delete a key-value pair\n",
        "del my_dict[\"email\"]\n",
        "\n",
        "# this returns the value and removes the key-value pair\n",
        "print(\"popped value:\", my_dict.pop(\"age\"))\n",
        "\n",
        "# return and removes the last inserted key-value pair\n",
        "# (in versions before Python 3.7 it removes an arbitrary pair)\n",
        "print(\"popped item:\", my_dict.popitem())\n",
        "\n",
        "print(my_dict)\n",
        "\n",
        "# clear() : remove all pairs\n",
        "my_dict.clear()\n",
        "print(\"Clear():\", my_dict)"
      ]
    },
    {
      "cell_type": "markdown",
      "metadata": {
        "id": "OIGr_gq-hZjO"
      },
      "source": [
        "#### Check for keys"
      ]
    },
    {
      "cell_type": "code",
      "execution_count": 6,
      "metadata": {
        "colab": {
          "base_uri": "https://localhost:8080/"
        },
        "id": "4N51oQFqhZjQ",
        "outputId": "156187a5-c513-44f2-afbf-aa5db1e0669f"
      },
      "outputs": [
        {
          "output_type": "stream",
          "name": "stdout",
          "text": [
            "Max\n",
            "No key found\n"
          ]
        }
      ],
      "source": [
        "my_dict = {\"name\": \"Max\", \"age\": 28, \"city\": \"New York\"}\n",
        "# use if .. in ..\n",
        "if \"name\" in my_dict:\n",
        "    print(my_dict[\"name\"])\n",
        "\n",
        "# use try except KeyError\n",
        "try:\n",
        "    print(my_dict[\"firstname\"])\n",
        "except KeyError:\n",
        "    print(\"No key found\")"
      ]
    },
    {
      "cell_type": "markdown",
      "metadata": {
        "id": "WeoM4qdOhZjS"
      },
      "source": [
        "#### Looping through dictionary"
      ]
    },
    {
      "cell_type": "code",
      "execution_count": 7,
      "metadata": {
        "colab": {
          "base_uri": "https://localhost:8080/"
        },
        "id": "vXEemfhJhZjU",
        "outputId": "18d72cfe-7f20-487d-c967-a35944e404b8"
      },
      "outputs": [
        {
          "output_type": "stream",
          "name": "stdout",
          "text": [
            "name Max\n",
            "age 28\n",
            "city New York\n",
            "--------\n",
            "name\n",
            "age\n",
            "city\n",
            "--------\n",
            "Max\n",
            "28\n",
            "New York\n",
            "--------\n",
            "name : Max\n",
            "age : 28\n",
            "city : New York\n"
          ]
        }
      ],
      "source": [
        "# loop over keys\n",
        "for key in my_dict:\n",
        "    print(key, my_dict[key])\n",
        "print(\"--------\")\n",
        "\n",
        "# loop over keys\n",
        "for key in my_dict.keys():\n",
        "    print(key)\n",
        "print(\"--------\")\n",
        "\n",
        "# loop over values\n",
        "for value in my_dict.values():\n",
        "    print(value)\n",
        "print(\"--------\")\n",
        "\n",
        "# loop over keys and values\n",
        "for key, value in my_dict.items():\n",
        "    print(key,\":\", value)"
      ]
    },
    {
      "cell_type": "markdown",
      "metadata": {
        "id": "1twSRr00hZjY"
      },
      "source": [
        "#### Copy a dictionary\n",
        "Be careful when copying references."
      ]
    },
    {
      "cell_type": "code",
      "execution_count": 8,
      "metadata": {
        "colab": {
          "base_uri": "https://localhost:8080/"
        },
        "id": "KevqnmM-hZjZ",
        "outputId": "75a832d2-ab46-4ae1-f5bf-06fcaf9b44bb"
      },
      "outputs": [
        {
          "output_type": "stream",
          "name": "stdout",
          "text": [
            "Using dict_copy = dict_org\n",
            "Dict_copy> {'name': 'Lisa', 'age': 28, 'city': 'New York'}\n",
            "Dict_org > {'name': 'Lisa', 'age': 28, 'city': 'New York'}\n",
            "Using dict_copy = dict_org.copy()\n",
            "Dict_copy> {'name': 'Lisa', 'age': 28, 'city': 'New York'}\n",
            "Dict_org > {'name': 'Max', 'age': 28, 'city': 'New York'}\n"
          ]
        }
      ],
      "source": [
        "dict_org = {\"name\": \"Max\", \"age\": 28, \"city\": \"New York\"}\n",
        "print(\"Using dict_copy = dict_org\")\n",
        "# this just copies the reference to the dict, so be careful\n",
        "dict_copy = dict_org\n",
        "\n",
        "# now modifying the copy also affects the original\n",
        "dict_copy[\"name\"] = \"Lisa\"\n",
        "print(\"Dict_copy>\", dict_copy)\n",
        "print(\"Dict_org >\", dict_org)\n",
        "\n",
        "# use copy(), or dict(x) to actually copy the dict\n",
        "dict_org = {\"name\": \"Max\", \"age\": 28, \"city\": \"New York\"}\n",
        "print(\"Using dict_copy = dict_org.copy()\")\n",
        "dict_copy = dict_org.copy()\n",
        "\n",
        "# now modifying the copy does not affect the original\n",
        "dict_copy[\"name\"] = \"Lisa\"\n",
        "print(\"Dict_copy>\", dict_copy)\n",
        "print(\"Dict_org >\", dict_org)"
      ]
    },
    {
      "cell_type": "markdown",
      "metadata": {
        "id": "M9OOXkLuhZjd"
      },
      "source": [
        "#### Merge two dictionaries"
      ]
    },
    {
      "cell_type": "code",
      "execution_count": 9,
      "metadata": {
        "colab": {
          "base_uri": "https://localhost:8080/"
        },
        "id": "yD7A2oFthZjf",
        "outputId": "f06d208c-3ee6-4f76-9552-462226e46fe6"
      },
      "outputs": [
        {
          "output_type": "stream",
          "name": "stdout",
          "text": [
            "{'name': 'Lisa', 'age': 27, 'email': 'max@xyz.com', 'city': 'Boston'}\n"
          ]
        }
      ],
      "source": [
        "# Use the update() method to merge 2 dicts\n",
        "# existing keys are overwritten, new keys are added\n",
        "my_dict = {\"name\": \"Max\", \"age\": 28, \"email\": \"max@xyz.com\"}\n",
        "my_dict_2 = dict(name=\"Lisa\", age=27, city=\"Boston\")\n",
        "\n",
        "my_dict.update(my_dict_2)\n",
        "print(my_dict)"
      ]
    },
    {
      "cell_type": "markdown",
      "metadata": {
        "id": "MrEodFjShZjg"
      },
      "source": [
        "#### Possible key types\n",
        "Any immutable type, like strings or numbers can be used as a key.\n",
        "Also, a tuple can be used if it contains only immutable elements."
      ]
    },
    {
      "cell_type": "code",
      "execution_count": 10,
      "metadata": {
        "colab": {
          "base_uri": "https://localhost:8080/"
        },
        "id": "nnkoC4uHhZjh",
        "outputId": "1c60f6b4-e2a7-4dd3-dbc4-c6a480626cf6"
      },
      "outputs": [
        {
          "output_type": "stream",
          "name": "stdout",
          "text": [
            "9 36 81\n",
            "15\n"
          ]
        }
      ],
      "source": [
        "# use numbers as key, but be careful\n",
        "my_dict = {3: 9, 6: 36, 9: 81}\n",
        "# do not mistake the keys as indices of a list,\n",
        "# e.g my_dict[0] is not possible here\n",
        "print(my_dict[3], my_dict[6], my_dict[9])\n",
        "\n",
        "# use a tuple with immutable elements (e.g. number, string)\n",
        "my_tuple = (8, 7)\n",
        "my_dict = {my_tuple: 15}\n",
        "\n",
        "print(my_dict[my_tuple])"
      ]
    },
    {
      "cell_type": "code",
      "execution_count": 11,
      "outputs": [
        {
          "output_type": "error",
          "ename": "TypeError",
          "evalue": "ignored",
          "traceback": [
            "\u001b[0;31m---------------------------------------------------------------------------\u001b[0m",
            "\u001b[0;31mTypeError\u001b[0m                                 Traceback (most recent call last)",
            "\u001b[0;32m<ipython-input-11-446d6dea58c7>\u001b[0m in \u001b[0;36m<module>\u001b[0;34m()\u001b[0m\n\u001b[1;32m      2\u001b[0m \u001b[0;31m# this will raise TypeError:\u001b[0m\u001b[0;34m\u001b[0m\u001b[0;34m\u001b[0m\u001b[0;34m\u001b[0m\u001b[0m\n\u001b[1;32m      3\u001b[0m \u001b[0mmy_list\u001b[0m \u001b[0;34m=\u001b[0m \u001b[0;34m[\u001b[0m\u001b[0;36m8\u001b[0m\u001b[0;34m,\u001b[0m \u001b[0;36m7\u001b[0m\u001b[0;34m]\u001b[0m\u001b[0;34m\u001b[0m\u001b[0;34m\u001b[0m\u001b[0m\n\u001b[0;32m----> 4\u001b[0;31m \u001b[0mmy_dict\u001b[0m \u001b[0;34m=\u001b[0m \u001b[0;34m{\u001b[0m\u001b[0mmy_list\u001b[0m\u001b[0;34m:\u001b[0m \u001b[0;36m15\u001b[0m\u001b[0;34m}\u001b[0m\u001b[0;34m\u001b[0m\u001b[0;34m\u001b[0m\u001b[0m\n\u001b[0m",
            "\u001b[0;31mTypeError\u001b[0m: unhashable type: 'list'"
          ]
        }
      ],
      "source": [
        "# a list is not possible because it is not immutable\n",
        "# this will raise TypeError:\n",
        "my_list = [8, 7]\n",
        "my_dict = {my_list: 15}"
      ],
      "metadata": {
        "pycharm": {
          "name": "#%%\n"
        },
        "colab": {
          "base_uri": "https://localhost:8080/",
          "height": 205
        },
        "id": "4w8M1wABhZjj",
        "outputId": "f1197c49-94d8-42db-df74-a72854f83a5a"
      }
    },
    {
      "cell_type": "markdown",
      "metadata": {
        "id": "c-07xAKbhZjk"
      },
      "source": [
        "#### Nested dictionaries\n",
        "The values can also be container types (e.g. lists, tuples, dictionaries)."
      ]
    },
    {
      "cell_type": "code",
      "execution_count": 12,
      "metadata": {
        "colab": {
          "base_uri": "https://localhost:8080/"
        },
        "id": "K6eLLoDEhZjm",
        "outputId": "f480be8c-90e4-4cb6-8ea5-638fe226fe8f"
      },
      "outputs": [
        {
          "output_type": "stream",
          "name": "stdout",
          "text": [
            "{'dictA': {'name': 'Max', 'age': 28}, 'dictB': {'name': 'Alex', 'age': 25}}\n"
          ]
        }
      ],
      "source": [
        "my_dict_1 = {\"name\": \"Max\", \"age\": 28}\n",
        "my_dict_2 = {\"name\": \"Alex\", \"age\": 25}\n",
        "nested_dict = {\"dictA\": my_dict_1,\n",
        "               \"dictB\": my_dict_2}\n",
        "print(nested_dict)"
      ]
    }
  ],
  "metadata": {
    "kernelspec": {
      "display_name": "Python [conda env:pythonengineer_env]",
      "language": "python",
      "name": "conda-env-pythonengineer_env-py"
    },
    "language_info": {
      "codemirror_mode": {
        "name": "ipython",
        "version": 3
      },
      "file_extension": ".py",
      "mimetype": "text/x-python",
      "name": "python",
      "nbconvert_exporter": "python",
      "pygments_lexer": "ipython3",
      "version": "3.7.3"
    },
    "colab": {
      "name": "03-Dictionary.ipynb",
      "provenance": [],
      "include_colab_link": true
    }
  },
  "nbformat": 4,
  "nbformat_minor": 0
}