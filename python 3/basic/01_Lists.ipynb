{
  "cells": [
    {
      "cell_type": "markdown",
      "metadata": {
        "id": "view-in-github",
        "colab_type": "text"
      },
      "source": [
        "<a href=\"https://colab.research.google.com/github/MeGaNeKoS/My-Check-Point/blob/main/python%203/basic/01_Lists.ipynb\" target=\"_parent\"><img src=\"https://colab.research.google.com/assets/colab-badge.svg\" alt=\"Open In Colab\"/></a>"
      ]
    },
    {
      "cell_type": "markdown",
      "source": [
        "# Lists\n",
        "\n",
        "List is a collection data type which is input ordered and mutable.<br>\n",
        "Lists allow duplicate elements.<br>\n",
        "Useful for preserving a sequence of data and further iterating over it.<br>\n",
        "\n",
        "`my_list = [\"fish\", \"cat\", \"wolf\"]`"
      ],
      "metadata": {
        "collapsed": false,
        "id": "w8CpKDeZYqBR"
      }
    },
    {
      "cell_type": "markdown",
      "source": [
        "#### Creating a list\n",
        "Lists are created with square brackets or the built-in list function."
      ],
      "metadata": {
        "collapsed": false,
        "id": "-dUs5vP2YqBb"
      }
    },
    {
      "cell_type": "code",
      "execution_count": 1,
      "outputs": [
        {
          "output_type": "stream",
          "name": "stdout",
          "text": [
            "list_1=['fish', 'cat', 'wolf']\n",
            "list_2=[]\n",
            "list_3=[]\n",
            "list_4=[5, True, 'chicken']\n",
            "list_5=[0, 0, 1, 1]\n"
          ]
        }
      ],
      "source": [
        "list_1 = [\"fish\", \"cat\", \"wolf\"]\n",
        "print(f\"list_1={list_1}\")\n",
        "\n",
        "# Or create an empty list with the list function\n",
        "list_2 = list()\n",
        "list_3 = []\n",
        "print(f\"list_2={list_2}\")\n",
        "print(f\"list_3={list_3}\")\n",
        "\n",
        "# Lists allow different data types\n",
        "list_4 = [5, True, \"chicken\"]\n",
        "print(f\"list_4={list_4}\")\n",
        "\n",
        "# Lists allow duplicates\n",
        "list_5 = [0, 0, 1, 1]\n",
        "print(f\"list_5={list_5}\")"
      ],
      "metadata": {
        "pycharm": {
          "name": "#%%\n"
        },
        "colab": {
          "base_uri": "https://localhost:8080/"
        },
        "id": "IdhT5MJCYqBg",
        "outputId": "15e3c137-dec4-4db2-ad14-0f99b1762c92"
      }
    },
    {
      "cell_type": "markdown",
      "source": [
        "#### Access elements\n",
        "You access the list items by referring to the index number. Note that the indices start at 0."
      ],
      "metadata": {
        "collapsed": false,
        "id": "etiJ0JJqYqBs"
      }
    },
    {
      "cell_type": "code",
      "execution_count": 2,
      "outputs": [
        {
          "output_type": "stream",
          "name": "stdout",
          "text": [
            "Fist item: fish\n",
            "Last item: wolf\n"
          ]
        }
      ],
      "source": [
        "item = list_1[0]\n",
        "print(\"Fist item:\", item)\n",
        "\n",
        "# List support negative indexing.\n",
        "# e.g -1 refers to the last item,\n",
        "# -2 to the second last item, and so on\n",
        "item = list_1[-1]\n",
        "print(\"Last item:\", item)"
      ],
      "metadata": {
        "pycharm": {
          "name": "#%%\n"
        },
        "colab": {
          "base_uri": "https://localhost:8080/"
        },
        "id": "hTTVvhI8YqBv",
        "outputId": "b945edfe-3f38-43e1-d937-bc72cac5e02f"
      }
    },
    {
      "cell_type": "markdown",
      "source": [
        "#### Change items\n",
        "Just refer to the index number and assign a new value."
      ],
      "metadata": {
        "collapsed": false,
        "id": "_nSNs2lFYqBx"
      }
    },
    {
      "cell_type": "code",
      "execution_count": 3,
      "outputs": [
        {
          "output_type": "stream",
          "name": "stdout",
          "text": [
            "Original list 1: ['fish', 'cat', 'wolf']\n",
            "Altered list 1: ['fish', 'cat', 'bear']\n"
          ]
        }
      ],
      "source": [
        "# Lists can be altered after their creation\n",
        "print(\"Original list 1:\", list_1)\n",
        "list_1[2] = \"bear\"\n",
        "print(\"Altered list 1:\", list_1)"
      ],
      "metadata": {
        "pycharm": {
          "name": "#%%\n"
        },
        "colab": {
          "base_uri": "https://localhost:8080/"
        },
        "id": "Ba3lo25SYqBz",
        "outputId": "17e83e95-72bf-45a0-feb8-21ae7d470ea8"
      }
    },
    {
      "cell_type": "markdown",
      "source": [
        "#### Common use methods\n",
        "All list methods:\n",
        "https://docs.python.org/3/tutorial/datastructures.html"
      ],
      "metadata": {
        "collapsed": false,
        "id": "KYdRH7y2YqB0"
      }
    },
    {
      "cell_type": "code",
      "execution_count": 4,
      "outputs": [
        {
          "output_type": "stream",
          "name": "stdout",
          "text": [
            "Length: 3\n",
            "['fish', 'owl', 'cat', 'wolf', 'catfish']\n",
            "Popped item:  catfish\n"
          ]
        }
      ],
      "source": [
        "my_list = [\"fish\", \"cat\", \"wolf\"]\n",
        "\n",
        "# len() : get the number of elements in a list\n",
        "print(\"Length:\", len(my_list))\n",
        "\n",
        "# append(item) : adds an element to the end of the list\n",
        "my_list.append(\"catfish\")\n",
        "\n",
        "# insert(index, item) : adds an element at the specified position\n",
        "my_list.insert(1, \"owl\")\n",
        "print(my_list)\n",
        "\n",
        "# pop([index]) : removes and returns the item at the given position, default is the last item\n",
        "item = my_list.pop()\n",
        "print(\"Popped item: \", item)"
      ],
      "metadata": {
        "pycharm": {
          "name": "#%%\n"
        },
        "colab": {
          "base_uri": "https://localhost:8080/"
        },
        "id": "n_PT4_jbYqB2",
        "outputId": "80729c22-f69d-47b9-880b-e75843c2353c"
      }
    },
    {
      "cell_type": "code",
      "source": [
        "# remove(item) : removes an item from the list\n",
        "my_list.remove(\"wolf\")\n",
        "print(my_list)"
      ],
      "metadata": {
        "colab": {
          "base_uri": "https://localhost:8080/"
        },
        "id": "bb0VK9Kebq4Z",
        "outputId": "f5149fec-ca08-45af-e20e-65ed1810663f"
      },
      "execution_count": 5,
      "outputs": [
        {
          "output_type": "stream",
          "name": "stdout",
          "text": [
            "['fish', 'owl', 'cat']\n"
          ]
        }
      ]
    },
    {
      "cell_type": "code",
      "execution_count": 6,
      "outputs": [
        {
          "output_type": "error",
          "ename": "ValueError",
          "evalue": "ignored",
          "traceback": [
            "\u001b[0;31m---------------------------------------------------------------------------\u001b[0m",
            "\u001b[0;31mValueError\u001b[0m                                Traceback (most recent call last)",
            "\u001b[0;32m<ipython-input-6-234870452cc5>\u001b[0m in \u001b[0;36m<module>\u001b[0;34m()\u001b[0m\n\u001b[1;32m      1\u001b[0m \u001b[0;31m# remove(item) : removes an item from the list\u001b[0m\u001b[0;34m\u001b[0m\u001b[0;34m\u001b[0m\u001b[0;34m\u001b[0m\u001b[0m\n\u001b[0;32m----> 2\u001b[0;31m \u001b[0mmy_list\u001b[0m\u001b[0;34m.\u001b[0m\u001b[0mremove\u001b[0m\u001b[0;34m(\u001b[0m\u001b[0;34m\"cherry\"\u001b[0m\u001b[0;34m)\u001b[0m \u001b[0;31m# ValueError if not in the list\u001b[0m\u001b[0;34m\u001b[0m\u001b[0;34m\u001b[0m\u001b[0m\n\u001b[0m\u001b[1;32m      3\u001b[0m \u001b[0mprint\u001b[0m\u001b[0;34m(\u001b[0m\u001b[0mmy_list\u001b[0m\u001b[0;34m)\u001b[0m\u001b[0;34m\u001b[0m\u001b[0;34m\u001b[0m\u001b[0m\n",
            "\u001b[0;31mValueError\u001b[0m: list.remove(x): x not in list"
          ]
        }
      ],
      "source": [
        "# remove(item) : removes an item from the list\n",
        "my_list.remove(\"cherry\") # ValueError if not in the list\n",
        "print(my_list)"
      ],
      "metadata": {
        "pycharm": {
          "name": "#%%\n"
        },
        "colab": {
          "base_uri": "https://localhost:8080/",
          "height": 205
        },
        "id": "am3diO7iYqB4",
        "outputId": "235a9276-c9d4-4e23-9120-b65349677340"
      }
    },
    {
      "cell_type": "code",
      "execution_count": 7,
      "outputs": [
        {
          "output_type": "stream",
          "name": "stdout",
          "text": [
            "my_list.clear() []\n",
            "Reversed:  ['wolf', 'cat', 'fish']\n",
            "Sorted:  ['cat', 'fish', 'wolf']\n",
            "my_list equal with sorted my_list? False\n",
            "list_with_zeros: [0, 0, 0, 0, 0]\n",
            "Concated list [0, 0, 0, 0, 0, 'fish', 'cat', 'wolf']\n",
            "List from string: ['H', 'e', 'l', 'l', 'o']\n"
          ]
        }
      ],
      "source": [
        "# clear() : removes all items from the list\n",
        "my_list.clear()\n",
        "print(\"my_list.clear()\", my_list)\n",
        "\n",
        "# reverse() : reverse the items\n",
        "my_list = [\"fish\", \"cat\", \"wolf\"]\n",
        "my_list.reverse()\n",
        "print('Reversed: ', my_list)\n",
        "\n",
        "# sort(*, key=None, reverse=False) : sort items in ascending order\n",
        "# You could sort by specific keys\n",
        "# More detail in 01-list-ex.py\n",
        "my_list.sort()\n",
        "print('Sorted: ', my_list)\n",
        "\n",
        "# use sorted() to get a new list, and leave the original unaffected.\n",
        "# sorted() works on any iterable type, not just lists\n",
        "my_list = [\"fish\", \"cat\", \"wolf\"]\n",
        "new_list = sorted(my_list)\n",
        "print(\"my_list equal with sorted my_list?\", my_list == new_list)\n",
        "\n",
        "# create list with repeated elements\n",
        "list_with_zeros = [0] * 5\n",
        "print(\"list_with_zeros:\", list_with_zeros)\n",
        "\n",
        "# concatenation\n",
        "list_concat = list_with_zeros + my_list\n",
        "print(\"Concated list\", list_concat)\n",
        "\n",
        "# convert string to list\n",
        "string_to_list = list('Hello')\n",
        "print(\"List from string:\", string_to_list)"
      ],
      "metadata": {
        "pycharm": {
          "name": "#%%\n"
        },
        "colab": {
          "base_uri": "https://localhost:8080/"
        },
        "id": "0UUmzTZAYqB6",
        "outputId": "1cba0589-cfec-49d7-8e0b-bc0a81a2f97c"
      }
    },
    {
      "cell_type": "markdown",
      "source": [
        "#### Copy a list\n",
        "Be careful when copying references."
      ],
      "metadata": {
        "collapsed": false,
        "id": "Ch6h3aHaYqB8"
      }
    },
    {
      "cell_type": "code",
      "execution_count": 8,
      "outputs": [
        {
          "output_type": "stream",
          "name": "stdout",
          "text": [
            "Using list_copy = list_org\n",
            "List_copy: ['fish', 'cat', 'wolf', True]\n",
            "List_org: ['fish', 'cat', 'wolf', True]\n",
            "Using list_copy = list_org.copy()\n",
            "List_copy: ['fish', 'cat', 'wolf', True]\n",
            "List_org: ['fish', 'cat', 'wolf']\n"
          ]
        }
      ],
      "source": [
        "list_org = [\"fish\", \"cat\", \"wolf\"]\n",
        "print(\"Using list_copy = list_org\")\n",
        "# this just copies the reference to the list, so be careful\n",
        "list_copy = list_org\n",
        "\n",
        "# now modifying the copy also affects the original\n",
        "list_copy.append(True)\n",
        "print(\"List_copy:\", list_copy)\n",
        "print(\"List_org:\", list_org)\n",
        "\n",
        "# use copy(), or list(x) to actually copy the list\n",
        "# slicing also works: list_copy = list_org[:]\n",
        "list_org = [\"fish\", \"cat\", \"wolf\"]\n",
        "print(\"Using list_copy = list_org.copy()\")\n",
        "list_copy = list_org.copy()\n",
        "# list_copy = list(list_org)\n",
        "# list_copy = list_org[:]\n",
        "\n",
        "# now modifying the copy does not affect the original\n",
        "list_copy.append(True)\n",
        "print(\"List_copy:\", list_copy)\n",
        "print(\"List_org:\", list_org)"
      ],
      "metadata": {
        "pycharm": {
          "name": "#%%\n"
        },
        "colab": {
          "base_uri": "https://localhost:8080/"
        },
        "id": "PW3v-ytjYqB9",
        "outputId": "cc39178b-18c4-4d6d-d231-2a0c1c05cf24"
      }
    },
    {
      "cell_type": "markdown",
      "source": [
        "#### Iterating"
      ],
      "metadata": {
        "collapsed": false,
        "id": "WUjLwn8KYqCA"
      }
    },
    {
      "cell_type": "code",
      "execution_count": 9,
      "outputs": [
        {
          "output_type": "stream",
          "name": "stdout",
          "text": [
            "fish\n",
            "cat\n",
            "wolf\n",
            "True\n"
          ]
        }
      ],
      "source": [
        "# Iterating over a list by using a for in loop\n",
        "for i in list_copy:\n",
        "    print(i)"
      ],
      "metadata": {
        "pycharm": {
          "name": "#%%\n"
        },
        "colab": {
          "base_uri": "https://localhost:8080/"
        },
        "id": "RUkelHuKYqCB",
        "outputId": "b8ef8e10-fcf8-4e38-cd8f-4feef8531394"
      }
    },
    {
      "cell_type": "markdown",
      "source": [
        "#### Check if an item exists"
      ],
      "metadata": {
        "collapsed": false,
        "id": "iq7fPg4BYqCB"
      }
    },
    {
      "cell_type": "code",
      "execution_count": 10,
      "outputs": [
        {
          "output_type": "stream",
          "name": "stdout",
          "text": [
            "no\n"
          ]
        }
      ],
      "source": [
        "if \"banana\" in list_1:\n",
        "    print(\"yes\")\n",
        "else:\n",
        "    print(\"no\")"
      ],
      "metadata": {
        "pycharm": {
          "name": "#%%\n"
        },
        "colab": {
          "base_uri": "https://localhost:8080/"
        },
        "id": "ZMyS-ghnYqCC",
        "outputId": "87baa63c-b1d7-4b0d-f738-1685bc9e6c4f"
      }
    },
    {
      "cell_type": "markdown",
      "source": [
        "#### Slicing\n",
        "Access sub parts of the list wih the use of colon (:), just as with strings."
      ],
      "metadata": {
        "collapsed": false,
        "id": "k78EdpzrYqCE"
      }
    },
    {
      "cell_type": "code",
      "execution_count": 11,
      "outputs": [
        {
          "output_type": "stream",
          "name": "stdout",
          "text": [
            "a[1:3] -> [2, 3]\n",
            "a[2:] -> [3, 4, 5, 6, 7, 8, 9, 10]\n",
            "a[:3] -> [1, 2, 3]\n",
            "a[0:3] = [0] -> [0, 4, 5, 6, 7, 8, 9, 10]\n",
            "a[::2] -> [0, 5, 7, 9]\n",
            "a[::-1] -> [10, 9, 8, 7, 6, 5, 4, 0]\n",
            "a[:] -> [10, 9, 8, 7, 6, 5, 4, 0]\n"
          ]
        }
      ],
      "source": [
        "# a[start:stop:step], default step is 1\n",
        "a = [1, 2, 3, 4, 5, 6, 7, 8, 9, 10]\n",
        "b = a[1:3] # Note that the last index is not included\n",
        "print(\"a[1:3] ->\", b)\n",
        "b = a[2:] # until the end\n",
        "print(\"a[2:] ->\", b)\n",
        "b = a[:3] # from beginning\n",
        "print(\"a[:3] ->\",b)\n",
        "a[0:3] = [0] # replace sub-parts, you need an iterable here\n",
        "print(\"a[0:3] = [0] ->\", a)\n",
        "b = a[::2] # start to end with every second item\n",
        "print(\"a[::2] ->\", b)\n",
        "a = a[::-1] # reverse the list with a negative step:\n",
        "print(\"a[::-1] ->\",a)\n",
        "b = a[:] # copy a list with slicing\n",
        "print(\"a[:] ->\", b)"
      ],
      "metadata": {
        "pycharm": {
          "name": "#%%\n"
        },
        "colab": {
          "base_uri": "https://localhost:8080/"
        },
        "id": "nEikvNWOYqCE",
        "outputId": "557f80f4-649c-4a36-f4a3-637a66e945c7"
      }
    },
    {
      "cell_type": "markdown",
      "source": [
        "#### List comprehension\n",
        "A elegant and fast way to create a new list from an existing list.\n",
        "\n",
        "List comprehension consists of an expression followed by a for statement inside square brackets."
      ],
      "metadata": {
        "collapsed": false,
        "id": "cL5KypjNYqCG"
      }
    },
    {
      "cell_type": "code",
      "execution_count": 12,
      "outputs": [
        {
          "output_type": "stream",
          "name": "stdout",
          "text": [
            "[1, 4, 9, 16, 25, 36, 49, 64]\n"
          ]
        }
      ],
      "source": [
        "a = [1, 2, 3, 4, 5, 6, 7, 8]\n",
        "b = [i * i for i in a] # squares each element\n",
        "print(b)"
      ],
      "metadata": {
        "pycharm": {
          "name": "#%%\n"
        },
        "colab": {
          "base_uri": "https://localhost:8080/"
        },
        "id": "_X6KNAnNYqCG",
        "outputId": "c64aac02-5e0b-43ea-d058-d93e6dc43ec2"
      }
    },
    {
      "cell_type": "markdown",
      "source": [
        "#### Nested lists\n",
        "Lists can contain other lists (or other container types)."
      ],
      "metadata": {
        "collapsed": false,
        "id": "KgfyrVXiYqCH"
      }
    },
    {
      "cell_type": "code",
      "execution_count": 13,
      "outputs": [
        {
          "output_type": "stream",
          "name": "stdout",
          "text": [
            "[[1, 2], [3, 4]]\n",
            "[1, 2]\n"
          ]
        }
      ],
      "source": [
        "a = [[1, 2], [3, 4]]\n",
        "print(a)\n",
        "print(a[0])"
      ],
      "metadata": {
        "pycharm": {
          "name": "#%%\n"
        },
        "colab": {
          "base_uri": "https://localhost:8080/"
        },
        "id": "ZKFwEHo1YqCH",
        "outputId": "351fc8b9-c911-4ded-c4af-97355bfa2e1c"
      }
    },
    {
      "cell_type": "markdown",
      "source": [
        "#### Comparison of basic built-in collection data types in Python:\n",
        "- List is a collection which is ordered and mutable. Allows duplicate members.\n",
        "- Tuple is a collection which is ordered and immutable. Allows duplicate members.\n",
        "- Set is a collection which is unordered and unindexed. No duplicate members.\n",
        "- Dictionary is a collection which is unordered, mutable and indexed. No duplicate members.\n",
        "- Strings are immutable sequences of Unicode code points.\n"
      ],
      "metadata": {
        "collapsed": false,
        "pycharm": {
          "name": "#%% md\n"
        },
        "id": "rzabqZgmYqCI"
      }
    }
  ],
  "metadata": {
    "kernelspec": {
      "name": "python3",
      "language": "python",
      "display_name": "Python 3 (ipykernel)"
    },
    "language_info": {
      "codemirror_mode": {
        "name": "ipython",
        "version": 3
      },
      "file_extension": ".py",
      "mimetype": "text/x-python",
      "name": "python",
      "nbconvert_exporter": "python",
      "pygments_lexer": "ipython3",
      "version": "3.7.3"
    },
    "colab": {
      "name": "01-Lists.ipynb",
      "provenance": [],
      "collapsed_sections": [],
      "include_colab_link": true
    }
  },
  "nbformat": 4,
  "nbformat_minor": 0
}