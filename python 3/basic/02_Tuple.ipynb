{
  "cells": [
    {
      "cell_type": "markdown",
      "metadata": {
        "id": "view-in-github",
        "colab_type": "text"
      },
      "source": [
        "<a href=\"https://colab.research.google.com/github/MeGaNeKoS/My-Check-Point/blob/main/python%203/basic/02_Tuple.ipynb\" target=\"_parent\"><img src=\"https://colab.research.google.com/assets/colab-badge.svg\" alt=\"Open In Colab\"/></a>"
      ]
    },
    {
      "cell_type": "markdown",
      "metadata": {
        "id": "O4ZE5tOveJzS"
      },
      "source": [
        "# Tuple\n",
        "\n",
        "A tuple is a collection of objects which is ordered and immutable.<br>\n",
        "Tuples are similar to lists, the main difference ist the immutability.<br>\n",
        "In Python tuples are written with round brackets and comma separated values.<br>\n",
        "\n",
        "`my_tuple = (\"Max\", 28, \"New York\")`"
      ]
    },
    {
      "cell_type": "markdown",
      "metadata": {
        "id": "1z0pqMMLeJzl"
      },
      "source": [
        "#### Create a tuple\n",
        "\n",
        "Tuples are created with round brackets and comma separated values. Or use the built-in tuple function."
      ]
    },
    {
      "cell_type": "code",
      "execution_count": 1,
      "metadata": {
        "colab": {
          "base_uri": "https://localhost:8080/"
        },
        "id": "G6pdvyP2eJzt",
        "outputId": "4518a714-bff6-433c-88f3-c0d5ae29fa58"
      },
      "outputs": [
        {
          "output_type": "stream",
          "name": "stdout",
          "text": [
            "tuple_1 > ('Max', 28, 'New York')\n",
            "tuple_2 > ('Linda', 25, 'Miami')\n",
            "tuple_3 > (25,)\n",
            "tuple_4 > (1, 2, 3)\n"
          ]
        }
      ],
      "source": [
        "tuple_1 = (\"Max\", 28, \"New York\")\n",
        "tuple_2 = \"Linda\", 25, \"Miami\" # Parentheses are optional\n",
        "\n",
        "# Special case: a tuple with only one element needs to have a comma at the end, \n",
        "# otherwise it is not recognized as tuple\n",
        "tuple_3 = (25,)\n",
        "print(\"tuple_1 >\", tuple_1)\n",
        "print(\"tuple_2 >\", tuple_2)\n",
        "print(\"tuple_3 >\", tuple_3)\n",
        "\n",
        "# Or convert an iterable (list, dict, string) with the built-in tuple function\n",
        "tuple_4 = tuple([1,2,3])\n",
        "print(\"tuple_4 >\", tuple_4)"
      ]
    },
    {
      "cell_type": "markdown",
      "metadata": {
        "id": "PqUSwlAEeJzy"
      },
      "source": [
        "#### Access elements\n",
        "You access the tuple items by referring to the index number. Note that the indices start at 0."
      ]
    },
    {
      "cell_type": "code",
      "execution_count": 2,
      "metadata": {
        "colab": {
          "base_uri": "https://localhost:8080/"
        },
        "id": "5FiqDT-neJzz",
        "outputId": "23fb5d07-0378-46dc-e973-861bca90ad0a"
      },
      "outputs": [
        {
          "output_type": "stream",
          "name": "stdout",
          "text": [
            "tuple_1[0]  > Max\n",
            "tuple_1[-1] > New York\n"
          ]
        }
      ],
      "source": [
        "item = tuple_1[0]\n",
        "print(\"tuple_1[0]  >\", item)\n",
        "# Tuple support negative indexing.\n",
        "# e.g -1 refers to the last item,\n",
        "# -2 to the second last item, and so on\n",
        "item = tuple_1[-1]\n",
        "print(\"tuple_1[-1] >\", item)"
      ]
    },
    {
      "cell_type": "markdown",
      "metadata": {
        "id": "CSJs3uOgeJz3"
      },
      "source": [
        "#### Add or change items \n",
        "Not possible and will raise a TypeError."
      ]
    },
    {
      "cell_type": "code",
      "execution_count": 3,
      "metadata": {
        "colab": {
          "base_uri": "https://localhost:8080/",
          "height": 169
        },
        "id": "3UBp6hR3eJz4",
        "outputId": "38e2bc76-5378-4eb7-f272-b3580b1ec1e4"
      },
      "outputs": [
        {
          "output_type": "error",
          "ename": "TypeError",
          "evalue": "ignored",
          "traceback": [
            "\u001b[0;31m---------------------------------------------------------------------------\u001b[0m",
            "\u001b[0;31mTypeError\u001b[0m                                 Traceback (most recent call last)",
            "\u001b[0;32m<ipython-input-3-c391d8981369>\u001b[0m in \u001b[0;36m<module>\u001b[0;34m()\u001b[0m\n\u001b[0;32m----> 1\u001b[0;31m \u001b[0mtuple_1\u001b[0m\u001b[0;34m[\u001b[0m\u001b[0;36m2\u001b[0m\u001b[0;34m]\u001b[0m \u001b[0;34m=\u001b[0m \u001b[0;34m\"Boston\"\u001b[0m\u001b[0;34m\u001b[0m\u001b[0;34m\u001b[0m\u001b[0m\n\u001b[0m",
            "\u001b[0;31mTypeError\u001b[0m: 'tuple' object does not support item assignment"
          ]
        }
      ],
      "source": [
        "tuple_1[2] = \"Boston\""
      ]
    },
    {
      "cell_type": "markdown",
      "metadata": {
        "id": "nVPSKxqCeJz5"
      },
      "source": [
        "#### Delete a tuple\n",
        "It will delete the variable from memory and return None"
      ]
    },
    {
      "cell_type": "code",
      "execution_count": 4,
      "metadata": {
        "collapsed": true,
        "id": "tnN9k7J-eJz7"
      },
      "outputs": [],
      "source": [
        "del tuple_2"
      ]
    },
    {
      "cell_type": "markdown",
      "metadata": {
        "id": "l6-ZkHoieJz-"
      },
      "source": [
        "#### Iterating"
      ]
    },
    {
      "cell_type": "code",
      "execution_count": 5,
      "metadata": {
        "colab": {
          "base_uri": "https://localhost:8080/"
        },
        "id": "f1GfmIqEeJ0B",
        "outputId": "aef745ad-8ab3-45be-ac0b-7ea490f46055"
      },
      "outputs": [
        {
          "output_type": "stream",
          "name": "stdout",
          "text": [
            "Max\n",
            "28\n",
            "New York\n"
          ]
        }
      ],
      "source": [
        "# Iterating over a tuple by using a for in loop\n",
        "for i in tuple_1:\n",
        "    print(i)"
      ]
    },
    {
      "cell_type": "markdown",
      "metadata": {
        "id": "e3JcQtd_eJ0E"
      },
      "source": [
        "#### Check if an item exists"
      ]
    },
    {
      "cell_type": "code",
      "execution_count": 6,
      "metadata": {
        "colab": {
          "base_uri": "https://localhost:8080/"
        },
        "id": "B0Egtq00eJ0E",
        "outputId": "bed7175e-7754-40f9-a28f-caba8bc1de6f"
      },
      "outputs": [
        {
          "output_type": "stream",
          "name": "stdout",
          "text": [
            "yes\n"
          ]
        }
      ],
      "source": [
        "if \"New York\" in tuple_1:\n",
        "    print(\"yes\")\n",
        "else:\n",
        "    print(\"no\")"
      ]
    },
    {
      "cell_type": "markdown",
      "metadata": {
        "id": "svyvkMfEeJ0H"
      },
      "source": [
        "#### Usefule methods"
      ]
    },
    {
      "cell_type": "code",
      "execution_count": 7,
      "metadata": {
        "colab": {
          "base_uri": "https://localhost:8080/"
        },
        "id": "wKMdsjvTeJ0I",
        "outputId": "f787709a-a573-4f29-a024-467a81c801c2"
      },
      "outputs": [
        {
          "output_type": "stream",
          "name": "stdout",
          "text": [
            "Length: 5\n",
            "Number of p: 2\n",
            "Number of l: 3\n",
            "Repetition ('a', 'b', 'a', 'b', 'a', 'b', 'a', 'b', 'a', 'b')\n",
            "Concat (1, 2, 3, 4, 5, 6)\n",
            "List to tuple ('a', 'b', 'c', 'd')\n",
            "Tuple to list ['a', 'b', 'c', 'd']\n",
            "String to tuple ('H', 'e', 'l', 'l', 'o')\n"
          ]
        }
      ],
      "source": [
        "my_tuple = ('a','p','p','l','e',)\n",
        "\n",
        "# len() : get the number of elements in a tuple\n",
        "print(\"Length:\", len(my_tuple))\n",
        "\n",
        "# count(x) : Return the number of items that is equal to x\n",
        "print(\"Number of p:\", my_tuple.count('p'))\n",
        "\n",
        "# index(x) : Return index of first item that is equal to x\n",
        "print(\"Number of l:\", my_tuple.index('l'))\n",
        "\n",
        "# repetition\n",
        "my_tuple = ('a', 'b') * 5\n",
        "print(\"Repetition\", my_tuple)\n",
        "\n",
        "# concatenation\n",
        "my_tuple = (1,2,3) + (4,5,6)\n",
        "print(\"Concat\", my_tuple)\n",
        "\n",
        "# convert list to a tuple and vice versa\n",
        "my_list = ['a', 'b', 'c', 'd']\n",
        "list_to_tuple = tuple(my_list)\n",
        "print(\"List to tuple\", list_to_tuple)\n",
        "\n",
        "tuple_to_list = list(list_to_tuple)\n",
        "print(\"Tuple to list\", tuple_to_list)\n",
        "\n",
        "# convert string to tuple\n",
        "string_to_tuple = tuple('Hello')\n",
        "print(\"String to tuple\", string_to_tuple)"
      ]
    },
    {
      "cell_type": "markdown",
      "metadata": {
        "id": "AO0PbitdeJ0K"
      },
      "source": [
        "#### Slicing\n",
        "Access sub parts of the tuple wih the use of colon (:), just as with strings."
      ]
    },
    {
      "cell_type": "code",
      "execution_count": 8,
      "metadata": {
        "colab": {
          "base_uri": "https://localhost:8080/"
        },
        "id": "YUVKDb9OeJ0M",
        "outputId": "56f31fcc-f509-4cb6-e932-988ce61eb052"
      },
      "outputs": [
        {
          "output_type": "stream",
          "name": "stdout",
          "text": [
            "a[1:3] (2, 3)\n",
            "a[2] (3, 4, 5, 6, 7, 8, 9, 10)\n",
            "a[:3] (1, 2, 3)\n",
            "a[::2] (1, 3, 5, 7, 9)\n",
            "a[::-1] (10, 9, 8, 7, 6, 5, 4, 3, 2, 1)\n"
          ]
        }
      ],
      "source": [
        "# a[start:stop:step], default step is 1\n",
        "a = (1, 2, 3, 4, 5, 6, 7, 8, 9, 10)\n",
        "b = a[1:3] # Note that the last index is not included\n",
        "print(\"a[1:3]\", b)\n",
        "b = a[2:] # until the end\n",
        "print(\"a[2]\", b)\n",
        "b = a[:3] # from beginning\n",
        "print(\"a[:3]\", b)\n",
        "b = a[::2] # start to end with every second item\n",
        "print(\"a[::2]\", b)\n",
        "b = a[::-1] # reverse tuple\n",
        "print(\"a[::-1]\", b)"
      ]
    },
    {
      "cell_type": "markdown",
      "metadata": {
        "id": "PCDDnyLVeJ0P"
      },
      "source": [
        "#### Unpack tuple"
      ]
    },
    {
      "cell_type": "code",
      "execution_count": 9,
      "metadata": {
        "colab": {
          "base_uri": "https://localhost:8080/"
        },
        "id": "yrln_Y2ceJ0Q",
        "outputId": "00661a8a-9a9e-4ea3-ccdd-513da8ce59ff"
      },
      "outputs": [
        {
          "output_type": "stream",
          "name": "stdout",
          "text": [
            "name Max\n",
            "age 28\n",
            "city New York\n",
            "item_first 0\n",
            "items_between [1, 2, 3, 4]\n",
            "item_last 5\n"
          ]
        }
      ],
      "source": [
        "# number of variables have to match number of tuple elements\n",
        "tuple_1 = (\"Max\", 28, \"New York\")\n",
        "name, age, city = tuple_1\n",
        "print(\"name\", name)\n",
        "print(\"age\", age)\n",
        "print(\"city\", city)\n",
        "\n",
        "# tip: unpack multiple elements to a list with *\n",
        "my_tuple = (0, 1, 2, 3, 4, 5)\n",
        "item_first, *items_between, item_last = my_tuple\n",
        "print(\"item_first\", item_first)\n",
        "print(\"items_between\", items_between)\n",
        "print(\"item_last\", item_last)"
      ]
    },
    {
      "cell_type": "markdown",
      "metadata": {
        "id": "v3MbPcmqeJ0R"
      },
      "source": [
        "#### Nested tuples\n",
        "Tuples can contain other tuples (or other container types)."
      ]
    },
    {
      "cell_type": "code",
      "execution_count": 10,
      "metadata": {
        "colab": {
          "base_uri": "https://localhost:8080/"
        },
        "id": "PbK26U1_eJ0T",
        "outputId": "74d2fe84-9ece-4e6b-fda5-798209373bd8"
      },
      "outputs": [
        {
          "output_type": "stream",
          "name": "stdout",
          "text": [
            "((0, 1), ('age', 'height'))\n",
            "(0, 1)\n"
          ]
        }
      ],
      "source": [
        "a = ((0, 1), ('age', 'height'))\n",
        "print(a)\n",
        "print(a[0])"
      ]
    },
    {
      "cell_type": "markdown",
      "metadata": {
        "id": "JXh7-D-ReJ0U"
      },
      "source": [
        "#### Compare tuple and list\n",
        "The immutability of tuples enables Python to make internal optimizations.\n",
        "Thus, tuples can be more efficient when working with large data."
      ]
    },
    {
      "cell_type": "code",
      "execution_count": 11,
      "metadata": {
        "colab": {
          "base_uri": "https://localhost:8080/"
        },
        "id": "SpLEHFkIeJ0U",
        "outputId": "1cc36db5-4c95-42e1-b0ad-5106e6333582"
      },
      "outputs": [
        {
          "output_type": "stream",
          "name": "stdout",
          "text": [
            "112 bytes\n",
            "96 bytes\n",
            "0.08660132300008172\n",
            "0.012775069000099393\n"
          ]
        }
      ],
      "source": [
        "# compare the size\n",
        "import sys\n",
        "my_list = [0, 1, 2, \"hello\", True]\n",
        "my_tuple = (0, 1, 2, \"hello\", True)\n",
        "print(sys.getsizeof(my_list), \"bytes\")\n",
        "print(sys.getsizeof(my_tuple), \"bytes\")\n",
        "\n",
        "# compare the execution time of a list vs. tuple creation statement\n",
        "import timeit\n",
        "print(timeit.timeit(stmt=\"[0, 1, 2, 3, 4, 5]\", number=1000000))\n",
        "print(timeit.timeit(stmt=\"(0, 1, 2, 3, 4, 5)\", number=1000000))"
      ]
    },
    {
      "cell_type": "markdown",
      "source": [
        "#### Reasons to use a tuple over a list\n",
        "\n",
        "- Generally used for objects that belong together.\n",
        "- Use tuple for heterogeneous (different) data types and list for homogeneous (similar) data types.\n",
        "- Since tuple are immutable, iterating through tuple is slightly faster than with list.\n",
        "- Tuples with their immutable elements can be used as key for a dictionary. This is not possible with lists.\n",
        "- If you have data that doesn't change, implementing it as tuple will guarantee that it remains write-protected."
      ],
      "metadata": {
        "collapsed": false,
        "pycharm": {
          "name": "#%% md\n"
        },
        "id": "SZ9-s64IeJ0W"
      }
    }
  ],
  "metadata": {
    "kernelspec": {
      "display_name": "Python [conda env:pythonengineer_env]",
      "language": "python",
      "name": "conda-env-pythonengineer_env-py"
    },
    "language_info": {
      "codemirror_mode": {
        "name": "ipython",
        "version": 3
      },
      "file_extension": ".py",
      "mimetype": "text/x-python",
      "name": "python",
      "nbconvert_exporter": "python",
      "pygments_lexer": "ipython3",
      "version": "3.7.3"
    },
    "colab": {
      "name": "02-Tuple.ipynb",
      "provenance": [],
      "include_colab_link": true
    }
  },
  "nbformat": 4,
  "nbformat_minor": 0
}